{
 "cells": [
  {
   "cell_type": "markdown",
   "id": "83ce7d53",
   "metadata": {},
   "source": [
    "### 1.1 Write a Python Program to implement your own myreduce() function which works exactly \n",
    "### like Python's built-in function reduce()"
   ]
  },
  {
   "cell_type": "code",
   "execution_count": 16,
   "id": "d04db574",
   "metadata": {},
   "outputs": [
    {
     "name": "stdout",
     "output_type": "stream",
     "text": [
      "My reduce value is: 120\n"
     ]
    }
   ],
   "source": [
    "def myreduce(function,list):\n",
    "    result = list[0]\n",
    "    for i in list[1:]:\n",
    "        result = function(result, i)\n",
    "    return result\n",
    "\n",
    "def function(a,b):\n",
    "    return a*b\n",
    "\n",
    "list = [2,4,3,1,5]\n",
    "print(f'My reduce value is: {myreduce(function, list)}')"
   ]
  },
  {
   "cell_type": "markdown",
   "id": "bffae800",
   "metadata": {},
   "source": [
    "### 1.2 Write a Python program to implement your own myfilter() function which works exactly \n",
    "### like Python's built-in function filter()\n"
   ]
  },
  {
   "cell_type": "code",
   "execution_count": 17,
   "id": "64aa03ea",
   "metadata": {},
   "outputs": [
    {
     "name": "stdout",
     "output_type": "stream",
     "text": [
      "My filter output is: [15, 60, 80, 100, 565]\n"
     ]
    }
   ],
   "source": [
    "def myfilter(fun, list):\n",
    "    result =[ ]\n",
    "    for i in list:\n",
    "        if fun(i):\n",
    "            result.append(i)\n",
    "    return result\n",
    "\n",
    "\n",
    "def fun(x):\n",
    "    if x%5==0:    ## here Iam filtering out numbers divisible by 5 into a list.\n",
    "        return True\n",
    "    else:\n",
    "        return False\n",
    "    \n",
    "list = [12, 15, 60, 34, 53,77,80,100,11,565,88]\n",
    "print(f\"My filter output is: {myfilter(fun,list)}\")"
   ]
  },
  {
   "cell_type": "markdown",
   "id": "dff73e0c",
   "metadata": {},
   "source": [
    "### 2. Implement List comprehensions to produce the following lists\n",
    "\n",
    "\n",
    "### Write List comprehensions to produce the following Lists\n",
    "\n",
    "### ['x', 'xx', 'xxx', 'xxxx', 'y', 'yy', 'yyy', 'yyyy', 'z', 'zz', 'zzz', 'zzzz'] \n",
    "\n",
    "### ['x', 'y', 'z', 'xx', 'yy', 'zz', 'xxx', 'yyy', 'zzz', 'xxxx', 'yyyy', 'zzzz'] \n",
    "\n",
    "### [[2], [3], [4], [3], [4], [5], [4], [5], [6]] [[2, 3, 4, 5], [3, 4, 5, 6], \n",
    "\n",
    "### [4, 5, 6, 7], [5, 6, 7, 8]]\n",
    "\n",
    "### [(1, 1), (2, 1), (3, 1), (1, 2), (2, 2), (3, 2), (1, 3), (2, 3), (3, 3)]"
   ]
  },
  {
   "cell_type": "code",
   "execution_count": null,
   "id": "6ca90936",
   "metadata": {},
   "outputs": [],
   "source": []
  },
  {
   "cell_type": "code",
   "execution_count": 18,
   "id": "ab35e720",
   "metadata": {},
   "outputs": [
    {
     "data": {
      "text/plain": [
       "['x', 'xx', 'xxx', 'xxxx', 'y', 'yy', 'yyy', 'yyyy', 'z', 'zz', 'zzz', 'zzzz']"
      ]
     },
     "execution_count": 18,
     "metadata": {},
     "output_type": "execute_result"
    }
   ],
   "source": [
    "# 1\n",
    "\n",
    "list=['x','y','z']\n",
    "pattern=[list[i]*j for i in range(len(list)) for j in range(1,5)]\n",
    "pattern"
   ]
  },
  {
   "cell_type": "code",
   "execution_count": null,
   "id": "447ad2ec",
   "metadata": {},
   "outputs": [],
   "source": []
  },
  {
   "cell_type": "code",
   "execution_count": 19,
   "id": "c0d7ca45",
   "metadata": {},
   "outputs": [
    {
     "data": {
      "text/plain": [
       "['x', 'y', 'z', 'xx', 'yy', 'zz', 'xxx', 'yyy', 'zzz', 'xxxx', 'yyyy', 'zzzz']"
      ]
     },
     "execution_count": 19,
     "metadata": {},
     "output_type": "execute_result"
    }
   ],
   "source": [
    "# 2\n",
    "\n",
    "list = ['x','y','z']\n",
    "pattern = [list[i]*j for j in range(1,5) for i in range(len(list))]\n",
    "pattern"
   ]
  },
  {
   "cell_type": "code",
   "execution_count": null,
   "id": "59d8b96d",
   "metadata": {},
   "outputs": [],
   "source": []
  },
  {
   "cell_type": "code",
   "execution_count": 20,
   "id": "0cf4afd0",
   "metadata": {},
   "outputs": [
    {
     "data": {
      "text/plain": [
       "[[2], [3], [4], [3], [4], [5], [4], [5], [6]]"
      ]
     },
     "execution_count": 20,
     "metadata": {},
     "output_type": "execute_result"
    }
   ],
   "source": [
    "# 3\n",
    "\n",
    "list = [[i+j] for i in range(2,5) for j in range(3)]\n",
    "list"
   ]
  },
  {
   "cell_type": "code",
   "execution_count": null,
   "id": "7149d985",
   "metadata": {},
   "outputs": [],
   "source": []
  },
  {
   "cell_type": "code",
   "execution_count": 26,
   "id": "a19dbe23",
   "metadata": {},
   "outputs": [
    {
     "data": {
      "text/plain": [
       "[[2, 3, 4, 5], [3, 4, 5, 6], [4, 5, 6, 7], [5, 6, 7, 8]]"
      ]
     },
     "execution_count": 26,
     "metadata": {},
     "output_type": "execute_result"
    }
   ],
   "source": [
    "# 4\n",
    "list = [[x+y for y in range(2, 6)] for x in range(4)]\n",
    "list\n"
   ]
  },
  {
   "cell_type": "code",
   "execution_count": null,
   "id": "fe126166",
   "metadata": {},
   "outputs": [],
   "source": []
  },
  {
   "cell_type": "code",
   "execution_count": 24,
   "id": "904f6e3c",
   "metadata": {},
   "outputs": [
    {
     "data": {
      "text/plain": [
       "[(1, 1), (2, 1), (3, 1), (1, 2), (2, 2), (3, 2), (1, 3), (2, 3), (3, 3)]"
      ]
     },
     "execution_count": 24,
     "metadata": {},
     "output_type": "execute_result"
    }
   ],
   "source": [
    "# 5\n",
    "\n",
    "list = [(x, y) for y in range(1, 4) for x in range(1, 4)]\n",
    "list\n",
    "\n"
   ]
  },
  {
   "cell_type": "code",
   "execution_count": null,
   "id": "0d8a0254",
   "metadata": {},
   "outputs": [],
   "source": []
  },
  {
   "cell_type": "code",
   "execution_count": null,
   "id": "75812c21",
   "metadata": {},
   "outputs": [],
   "source": []
  },
  {
   "cell_type": "code",
   "execution_count": null,
   "id": "c7de1bb1",
   "metadata": {},
   "outputs": [],
   "source": []
  },
  {
   "cell_type": "code",
   "execution_count": null,
   "id": "e883fcd8",
   "metadata": {},
   "outputs": [],
   "source": []
  },
  {
   "cell_type": "code",
   "execution_count": null,
   "id": "fd587170",
   "metadata": {},
   "outputs": [],
   "source": []
  }
 ],
 "metadata": {
  "kernelspec": {
   "display_name": "Python 3 (ipykernel)",
   "language": "python",
   "name": "python3"
  },
  "language_info": {
   "codemirror_mode": {
    "name": "ipython",
    "version": 3
   },
   "file_extension": ".py",
   "mimetype": "text/x-python",
   "name": "python",
   "nbconvert_exporter": "python",
   "pygments_lexer": "ipython3",
   "version": "3.9.7"
  }
 },
 "nbformat": 4,
 "nbformat_minor": 5
}
