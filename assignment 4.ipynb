{
 "cells": [
  {
   "cell_type": "markdown",
   "id": "97d4c008",
   "metadata": {},
   "source": [
    "### 1.1 Write a Python Program(with class concepts) to find the area of the triangle using the below\n",
    "### formula.\n",
    "\n",
    "### area = (s*(s-a)*(s-b)*(s-c)) ** 0.5\n",
    "\n",
    "### Function to take the length of the sides of triangle from user should be defined in the parent \n",
    "### class and function to calculate the area should be defined in subclass."
   ]
  },
  {
   "cell_type": "code",
   "execution_count": 1,
   "id": "1efb9e45",
   "metadata": {},
   "outputs": [],
   "source": [
    "class Triangle:\n",
    "    def __init__(self):\n",
    "        self.a = int(input(\"enter a: \"))\n",
    "        self.b = int(input(\"enter b: \"))\n",
    "        self.c = int(input(\"enter c: \"))\n",
    "        \n",
    "class Area(Triangle):    \n",
    "        def area(self):\n",
    "            s = (self.a + self.b + self.c) / 2\n",
    "            area = (s*(s - self.a)*(s - self.b)*(s - self.c))**0.5\n",
    "            return(f\"Area of traingle is {area:}\")"
   ]
  },
  {
   "cell_type": "code",
   "execution_count": 2,
   "id": "c11ad1e6",
   "metadata": {},
   "outputs": [
    {
     "name": "stdout",
     "output_type": "stream",
     "text": [
      "enter a: 5\n",
      "enter b: 4\n",
      "enter c: 8\n"
     ]
    },
    {
     "data": {
      "text/plain": [
       "'Area of traingle is 8.181534085976786'"
      ]
     },
     "execution_count": 2,
     "metadata": {},
     "output_type": "execute_result"
    }
   ],
   "source": [
    "a=Area()\n",
    "a.area()"
   ]
  },
  {
   "cell_type": "code",
   "execution_count": null,
   "id": "c42d938d",
   "metadata": {},
   "outputs": [],
   "source": []
  },
  {
   "cell_type": "markdown",
   "id": "79e82aab",
   "metadata": {},
   "source": [
    "### 1.2 Write a function filter_long_words() that takes a list of words and an integer n and returns \n",
    "### the list of words that are longer than n.\n"
   ]
  },
  {
   "cell_type": "code",
   "execution_count": 3,
   "id": "db044fdc",
   "metadata": {},
   "outputs": [],
   "source": [
    "def filter_long_words(list,num):\n",
    "    l = [ ]\n",
    "    for i in list:\n",
    "        if len(i) > num:\n",
    "            l.append(i)\n",
    "    print(f\"Longest words are: {l}\")"
   ]
  },
  {
   "cell_type": "code",
   "execution_count": 4,
   "id": "d4790590",
   "metadata": {},
   "outputs": [
    {
     "name": "stdout",
     "output_type": "stream",
     "text": [
      "Longest words are: ['human', 'zebra', 'orangutan', 'dinosaur', 'giraffe']\n"
     ]
    }
   ],
   "source": [
    "list = [\"human\",\"fly\",\"zebra\",\"orangutan\", 'ant','pig',\"dinosaur\",\"giraffe\"]\n",
    "filter_long_words(list,4)"
   ]
  },
  {
   "cell_type": "code",
   "execution_count": null,
   "id": "3173a652",
   "metadata": {},
   "outputs": [],
   "source": []
  },
  {
   "cell_type": "markdown",
   "id": "450c115e",
   "metadata": {},
   "source": [
    "### 2.1 Write a Python program using function concept that maps list of words into a list of integers\n",
    "### representing the lengths of the corresponding words.\n"
   ]
  },
  {
   "cell_type": "code",
   "execution_count": 5,
   "id": "39abc657",
   "metadata": {},
   "outputs": [],
   "source": [
    "def words_num_list(list): \n",
    "    l=[ ]\n",
    "    for i in list:\n",
    "        l.append(len(i))\n",
    "    print(l)"
   ]
  },
  {
   "cell_type": "code",
   "execution_count": 6,
   "id": "7e73ad07",
   "metadata": {},
   "outputs": [
    {
     "name": "stdout",
     "output_type": "stream",
     "text": [
      "[7, 8, 6, 9]\n"
     ]
    }
   ],
   "source": [
    "list=['mystery','football',\"tennis\",'badminton']\n",
    "words_num_list(list)\n"
   ]
  },
  {
   "cell_type": "code",
   "execution_count": null,
   "id": "a0f17bbb",
   "metadata": {},
   "outputs": [],
   "source": []
  },
  {
   "cell_type": "markdown",
   "id": "1d5961eb",
   "metadata": {},
   "source": [
    "### 2.2 Write a Python function which takes a character (i.e. a string of length 1) and returns True if\n",
    "### it is a vowel, False otherwise."
   ]
  },
  {
   "cell_type": "code",
   "execution_count": 7,
   "id": "25c15094",
   "metadata": {},
   "outputs": [],
   "source": [
    "def check_vowel():\n",
    "    letter=input(\"Input your character: \")\n",
    "    l=['a','e','i','o','u']\n",
    "    if letter in l:\n",
    "        return True\n",
    "    else:\n",
    "        return False"
   ]
  },
  {
   "cell_type": "code",
   "execution_count": 10,
   "id": "9f2530a6",
   "metadata": {},
   "outputs": [
    {
     "name": "stdout",
     "output_type": "stream",
     "text": [
      "Input your character: w\n"
     ]
    },
    {
     "data": {
      "text/plain": [
       "False"
      ]
     },
     "execution_count": 10,
     "metadata": {},
     "output_type": "execute_result"
    }
   ],
   "source": [
    "check_vowel()"
   ]
  },
  {
   "cell_type": "code",
   "execution_count": null,
   "id": "6feee59f",
   "metadata": {},
   "outputs": [],
   "source": []
  },
  {
   "cell_type": "code",
   "execution_count": null,
   "id": "3927267f",
   "metadata": {},
   "outputs": [],
   "source": []
  }
 ],
 "metadata": {
  "kernelspec": {
   "display_name": "Python 3 (ipykernel)",
   "language": "python",
   "name": "python3"
  },
  "language_info": {
   "codemirror_mode": {
    "name": "ipython",
    "version": 3
   },
   "file_extension": ".py",
   "mimetype": "text/x-python",
   "name": "python",
   "nbconvert_exporter": "python",
   "pygments_lexer": "ipython3",
   "version": "3.9.7"
  }
 },
 "nbformat": 4,
 "nbformat_minor": 5
}
